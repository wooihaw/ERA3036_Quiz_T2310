{
  "cells": [
    {
      "cell_type": "markdown",
      "metadata": {
        "id": "view-in-github",
        "colab_type": "text"
      },
      "source": [
        "<a href=\"https://colab.research.google.com/github/wooihaw/ERA3036_Quiz_T2310/blob/main/ERA3036_Quiz_2(T2310).ipynb\" target=\"_parent\"><img src=\"https://colab.research.google.com/assets/colab-badge.svg\" alt=\"Open In Colab\"/></a>"
      ]
    },
    {
      "cell_type": "markdown",
      "id": "20374c67-8881-4dc9-b7d5-baeff57072d2",
      "metadata": {
        "id": "20374c67-8881-4dc9-b7d5-baeff57072d2"
      },
      "source": [
        "## ERA3036 Quiz 2  "
      ]
    },
    {
      "cell_type": "markdown",
      "id": "57ac5843-5d42-4daa-9a01-b7e61e605831",
      "metadata": {
        "id": "57ac5843-5d42-4daa-9a01-b7e61e605831"
      },
      "source": [
        "Name:  \n",
        "Student ID:  \n",
        "Date:  "
      ]
    },
    {
      "cell_type": "markdown",
      "id": "9408db05-8cba-4db8-bf79-90a85d1a3150",
      "metadata": {
        "id": "9408db05-8cba-4db8-bf79-90a85d1a3150"
      },
      "source": [
        "#### Description  \n",
        "The Glass Identification Dataset, used for machine learning classification, comprises 214 samples from the U.S. Forensic Science Service. It consists of nine features, including refractive index and various oxides, to classify glass into seven types. This dataset is valuable in forensic science for glass type identification based on chemical composition.\n",
        "\n",
        "This Jupyter Notebook imports the required libraries and load the dataset into a Pandas DataFrame.\n",
        "\n",
        "#### Tasks  \n",
        "After the dataset has been loaded into a Pandas DataFrame, you are required to perform the following tasks:  \n",
        "1. Print the first 5 rows of the dataset.\n",
        "2. Check for missing values.\n",
        "3. If there are any missing values, impute (replace) them with the mean values from the same column (skip this step if there is no missing value).\n",
        "4. Separate the dataset to features (X) and targets (y).\n",
        "5. Print out the number of features.\n",
        "6. Use 3-fold cross validation to validate k-Nearest Neighbours, Logistric Regression, Random Forest and Multi-layer Perceptron classification models with the default values for the hyperparameters.\n",
        "7. Scale the features using StandardScaler().\n",
        "8. Repeat Step (6) on the scaled features."
      ]
    },
    {
      "cell_type": "code",
      "execution_count": null,
      "id": "9d5f0e59-663d-4cbd-adac-5422bf17a7ac",
      "metadata": {
        "tags": [],
        "id": "9d5f0e59-663d-4cbd-adac-5422bf17a7ac"
      },
      "outputs": [],
      "source": [
        "# Load libraries\n",
        "from pandas import read_csv\n",
        "from sklearn.neighbors import KNeighborsClassifier\n",
        "from sklearn.linear_model import LogisticRegression\n",
        "from sklearn.ensemble import RandomForestClassifier\n",
        "from sklearn.neural_network import MLPClassifier\n",
        "from sklearn.model_selection import cross_val_score, KFold\n",
        "from sklearn.preprocessing import StandardScaler"
      ]
    },
    {
      "cell_type": "code",
      "execution_count": null,
      "id": "d2815a6d-d85c-4ebc-95a7-07437b8dd2ff",
      "metadata": {
        "tags": [],
        "id": "d2815a6d-d85c-4ebc-95a7-07437b8dd2ff"
      },
      "outputs": [],
      "source": [
        "# Load dataset into Pandas DataFrame\n",
        "df = read_csv(\"https://raw.githubusercontent.com/wooihaw/datasets/main/glass_data.csv\")"
      ]
    },
    {
      "cell_type": "code",
      "execution_count": null,
      "id": "b8e18ff5-7398-4844-af42-6ad04472d4f6",
      "metadata": {
        "tags": [],
        "id": "b8e18ff5-7398-4844-af42-6ad04472d4f6"
      },
      "outputs": [],
      "source": []
    }
  ],
  "metadata": {
    "kernelspec": {
      "display_name": "Python 3",
      "language": "python",
      "name": "python3"
    },
    "language_info": {
      "codemirror_mode": {
        "name": "ipython",
        "version": 3
      },
      "file_extension": ".py",
      "mimetype": "text/x-python",
      "name": "python",
      "nbconvert_exporter": "python",
      "pygments_lexer": "ipython3",
      "version": "3.8.10"
    },
    "colab": {
      "provenance": [],
      "include_colab_link": true
    }
  },
  "nbformat": 4,
  "nbformat_minor": 5
}